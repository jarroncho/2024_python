{
 "cells": [
  {
   "cell_type": "code",
   "execution_count": 2,
   "id": "ae42d261-ea85-4008-9201-6ce4f4b417c0",
   "metadata": {},
   "outputs": [],
   "source": [
    "from selenium import webdriver\n",
    "from selenium.webdriver.common.by import By\n",
    "from selenium.webdriver.support.ui import WebDriverWait\n",
    "from selenium.webdriver.support import expected_conditions as EC\n",
    "from bs4 import BeautifulSoup\n",
    "import pandas as pd\n",
    "import time\n",
    "\n",
    "browser = webdriver.Chrome()\n",
    "\n",
    "browser.get(\"https://finance.yahoo.com/quote/\")\n",
    "\n",
    "#time.sleep(5)\n",
    "#input=browser.find_element(By.ID, \"ybar-sbq\")\n",
    "locator = (By.ID, \"ybar-sbq\")  # 定位器\n",
    "input = WebDriverWait(browser, 10).until(\n",
    "    EC.presence_of_element_located(locator),\n",
    "    \"Timeout while waiting for search input box\")\n",
    "time.sleep(3)\n",
    "locator = (By.ID, \"ybar-search\")\n",
    "#search=browser.find_element(By.ID, \"ybar-search\")\n",
    "search = WebDriverWait(browser, 10).until(\n",
    "    EC.presence_of_element_located(locator),\n",
    "    \"Timeout while waiting for search button\")\n",
    "input.send_keys(\"MS\")\n",
    "search.click()"
   ]
  },
  {
   "cell_type": "code",
   "execution_count": 3,
   "id": "aef67099-a8dc-41ba-9dab-2c4775b290fb",
   "metadata": {},
   "outputs": [],
   "source": [
    "result = [[\"NVDA\", \"123\"]]  # Wrap the elements in a list to create a row\n",
    "df = pd.DataFrame(result, columns=[\"名字\", \"價格\"])\n",
    "df.to_excel(\"stock_search.xlsx\", sheet_name=\"stock\", index=False)"
   ]
  },
  {
   "cell_type": "code",
   "execution_count": null,
   "id": "27dd171a-b065-4420-a264-00d8ede1d400",
   "metadata": {},
   "outputs": [],
   "source": []
  }
 ],
 "metadata": {
  "kernelspec": {
   "display_name": "Python 3 (ipykernel)",
   "language": "python",
   "name": "python3"
  },
  "language_info": {
   "codemirror_mode": {
    "name": "ipython",
    "version": 3
   },
   "file_extension": ".py",
   "mimetype": "text/x-python",
   "name": "python",
   "nbconvert_exporter": "python",
   "pygments_lexer": "ipython3",
   "version": "3.11.5"
  }
 },
 "nbformat": 4,
 "nbformat_minor": 5
}
