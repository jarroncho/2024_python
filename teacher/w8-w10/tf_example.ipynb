{
 "cells": [
  {
   "cell_type": "code",
   "execution_count": null,
   "id": "b7d4c3f7-f6a3-4082-8037-5f3f9da72974",
   "metadata": {},
   "outputs": [],
   "source": [
    "import matplotlib.pyplot as plt\n",
    "from scipy import stats\n",
    "\n",
    "x = [5,7,8,7,2,17,2,9,4,11,12,9,6]\n",
    "y = [99,86,87,88,111,86,103,87,94,78,77,85,86]\n",
    "\n",
    "slope, intercept, r, p, std_err = stats.linregress(x, y)\n",
    "\n",
    "def myfunc(x):\n",
    "  return slope * x + intercept\n",
    "# x is input list, and output result list\n",
    "mymodel = list(map(myfunc, x))\n",
    "\n",
    "plt.scatter(x, y)\n",
    "plt.plot(x, mymodel)\n",
    "plt.show()"
   ]
  },
  {
   "cell_type": "code",
   "execution_count": null,
   "id": "c5364b41",
   "metadata": {},
   "outputs": [],
   "source": [
    "#show basic tensorflow expression\n",
    "\n",
    "import tensorflow as tf\n",
    "\n",
    "print(\"TensorFlow version:\", tf.__version__)\n",
    "\n",
    "# Create a constant tensor\n",
    "a = tf.constant(3.0)\n",
    "# Print the constant tensor\n",
    "print(a)\n",
    "\n",
    "# Create a variable tensor\n",
    "b = tf.Variable(12., name=\"var\")\n",
    "print(b)\n",
    "b.assign(7)\n",
    "print(b)\n",
    "print(b.numpy())\n",
    "\n",
    "\n",
    "a1_array = tf.constant([[10,10],[11,1.]])\n",
    "print(a1_array)\n",
    "a2_array = tf.constant([[1.,0.],[0.,1.]])\n",
    "print(a2_array)\n",
    "\n",
    "y = tf.matmul(a1_array, a2_array) + b\n",
    "\n",
    "print(y)\n",
    "print(y.numpy())"
   ]
  },
  {
   "cell_type": "code",
   "execution_count": null,
   "id": "0d3249dd-2ce2-4dc9-918b-42bfabf41e11",
   "metadata": {},
   "outputs": [],
   "source": [
    "#show basic variable result will become constant\n",
    "import tensorflow as tf\n",
    "\n",
    "# Define variables with names\n",
    "var1 = tf.Variable(1.0, name=\"my_variable_1\")\n",
    "var2 = tf.Variable(2.0, name=\"my_variable_2\")\n",
    "\n",
    "# Use variable names in the computation graph\n",
    "result = var1 + var2\n",
    "\n",
    "# Print the variable names\n",
    "print(\"Variable 1 name:\", var1.name)\n",
    "print(\"Variable 2 name:\", var2.name)\n",
    "\n",
    "print(var1)\n",
    "print(var2)\n",
    "print(result)\n",
    "\n"
   ]
  },
  {
   "cell_type": "code",
   "execution_count": null,
   "id": "d006060f-84cd-448c-ab1a-e71618c07738",
   "metadata": {},
   "outputs": [],
   "source": [
    "#basic multiple in tensorflow\n",
    "\n",
    "x1 = tf.constant([[10,10,10]])\n",
    "print(\"x1:\")\n",
    "print(x1)\n",
    "x2 = tf.reshape(x1,[3,1])\n",
    "print(\"x2:\")\n",
    "print(x2)\n",
    "# 1~4\n",
    "y = tf.range(1, 5)\n",
    "print(\"y:\")\n",
    "print(y)\n",
    "\n",
    "#tensor multiply\n",
    "print(\"tf.multiply(x2, y)=\")\n",
    "print(tf.multiply(x2, y))\n",
    "print(\"tf.multiply(x1, x2)=\")\n",
    "print(tf.multiply(x1, x2))\n",
    "#matrix multiply\n",
    "print(\"tf.matmul(x1, x2)=\")\n",
    "print(tf.matmul(x1, x2))"
   ]
  },
  {
   "cell_type": "code",
   "execution_count": 1,
   "id": "b61563a6-171f-4e84-967e-4b1d0ba48591",
   "metadata": {},
   "outputs": [
    {
     "name": "stdout",
     "output_type": "stream",
     "text": [
      "[[1. 0. 0.]\n",
      " [0. 1. 0.]\n",
      " [0. 0. 1.]\n",
      " [0. 1. 0.]]\n"
     ]
    }
   ],
   "source": [
    "import numpy as np\n",
    "from tensorflow.keras.utils import to_categorical\n",
    "\n",
    "# Example class labels\n",
    "class_labels = np.array([0, 1, 2, 1])\n",
    "\n",
    "# Convert to one-hot encoding\n",
    "one_hot_labels = to_categorical(class_labels)\n",
    "\n",
    "print(one_hot_labels)"
   ]
  },
  {
   "cell_type": "code",
   "execution_count": null,
   "id": "37ef8bad-2ad3-40de-a92c-223cc86ab739",
   "metadata": {},
   "outputs": [],
   "source": []
  }
 ],
 "metadata": {
  "kernelspec": {
   "display_name": "Python 3 (ipykernel)",
   "language": "python",
   "name": "python3"
  },
  "language_info": {
   "codemirror_mode": {
    "name": "ipython",
    "version": 3
   },
   "file_extension": ".py",
   "mimetype": "text/x-python",
   "name": "python",
   "nbconvert_exporter": "python",
   "pygments_lexer": "ipython3",
   "version": "3.11.5"
  }
 },
 "nbformat": 4,
 "nbformat_minor": 5
}
