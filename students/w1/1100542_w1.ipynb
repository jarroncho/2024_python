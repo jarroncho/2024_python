{
 "cells": [
  {
   "cell_type": "code",
   "execution_count": 1,
   "id": "eabbfb4e",
   "metadata": {},
   "outputs": [
    {
     "name": "stdout",
     "output_type": "stream",
     "text": [
      "hello world for Jarron\n",
      "name: 陳秉杰\n",
      "id: 1100542\n",
      "python version is : 3.11.5 | packaged by Anaconda, Inc. | (main, Sep 11 2023, 13:26:23) [MSC v.1916 64 bit (AMD64)]\n"
     ]
    }
   ],
   "source": [
    "import sys\n",
    "\n",
    "# print hellowrld with variable \n",
    "def hello(name,id):\n",
    "    print('hello world for Jarron')\n",
    "    print('name:',name)\n",
    "    print('id:',id)\n",
    "def showpythonversion():\n",
    "    print('python version is :', sys.version)\n",
    "name='陳秉杰'\n",
    "id=1100542\n",
    "\n",
    "# call hello function\n",
    "hello(name,id)\n",
    "\n",
    "showpythonversion()"
   ]
  },
  {
   "cell_type": "code",
   "execution_count": null,
   "id": "ca772a4b",
   "metadata": {},
   "outputs": [],
   "source": []
  }
 ],
 "metadata": {
  "kernelspec": {
   "display_name": "Python 3 (ipykernel)",
   "language": "python",
   "name": "python3"
  },
  "language_info": {
   "codemirror_mode": {
    "name": "ipython",
    "version": 3
   },
   "file_extension": ".py",
   "mimetype": "text/x-python",
   "name": "python",
   "nbconvert_exporter": "python",
   "pygments_lexer": "ipython3",
   "version": "3.11.5"
  }
 },
 "nbformat": 4,
 "nbformat_minor": 5
}
